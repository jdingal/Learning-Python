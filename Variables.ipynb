{
 "cells": [
  {
   "cell_type": "code",
   "execution_count": 1,
   "id": "b2b64fad-946f-46c2-8889-3bbc9d2c5781",
   "metadata": {},
   "outputs": [],
   "source": [
    "Age = 44"
   ]
  },
  {
   "cell_type": "code",
   "execution_count": 3,
   "id": "558a8a21-5c7d-4c49-81c9-99fc902d15b4",
   "metadata": {},
   "outputs": [
    {
     "data": {
      "text/plain": [
       "44"
      ]
     },
     "execution_count": 3,
     "metadata": {},
     "output_type": "execute_result"
    }
   ],
   "source": [
    "Age"
   ]
  },
  {
   "cell_type": "code",
   "execution_count": 4,
   "id": "030c9f73-3a2f-44f7-a097-7826d5c3308d",
   "metadata": {},
   "outputs": [
    {
     "data": {
      "text/plain": [
       "45"
      ]
     },
     "execution_count": 4,
     "metadata": {},
     "output_type": "execute_result"
    }
   ],
   "source": [
    "Age+1"
   ]
  },
  {
   "cell_type": "code",
   "execution_count": 5,
   "id": "bd015c8d-82e3-4b45-bbda-0f98d21d38d5",
   "metadata": {},
   "outputs": [
    {
     "data": {
      "text/plain": [
       "44"
      ]
     },
     "execution_count": 5,
     "metadata": {},
     "output_type": "execute_result"
    }
   ],
   "source": [
    "Age"
   ]
  },
  {
   "cell_type": "code",
   "execution_count": 6,
   "id": "40d1f5a0-8288-49cf-9191-5a0d1b8f8e22",
   "metadata": {},
   "outputs": [],
   "source": [
    "Age = Age * 3"
   ]
  },
  {
   "cell_type": "code",
   "execution_count": 7,
   "id": "ee1a8c18-c948-4e8e-939c-890ab8f32777",
   "metadata": {},
   "outputs": [
    {
     "data": {
      "text/plain": [
       "132"
      ]
     },
     "execution_count": 7,
     "metadata": {},
     "output_type": "execute_result"
    }
   ],
   "source": [
    "Age"
   ]
  },
  {
   "cell_type": "code",
   "execution_count": 8,
   "id": "75b219e8-e2d7-4b74-88dc-a84418df04db",
   "metadata": {},
   "outputs": [],
   "source": [
    "Age = Age - 88"
   ]
  },
  {
   "cell_type": "code",
   "execution_count": 9,
   "id": "2a462623-df67-45b4-8f74-6dfb2b590b42",
   "metadata": {},
   "outputs": [
    {
     "data": {
      "text/plain": [
       "44"
      ]
     },
     "execution_count": 9,
     "metadata": {},
     "output_type": "execute_result"
    }
   ],
   "source": [
    "Age"
   ]
  },
  {
   "cell_type": "code",
   "execution_count": 10,
   "id": "68454850-d391-4327-afad-afddd260d971",
   "metadata": {},
   "outputs": [],
   "source": [
    "score = 56"
   ]
  },
  {
   "cell_type": "code",
   "execution_count": 11,
   "id": "fa7e2bf3-68e4-47a4-b038-a284acb7fd07",
   "metadata": {},
   "outputs": [
    {
     "data": {
      "text/plain": [
       "100"
      ]
     },
     "execution_count": 11,
     "metadata": {},
     "output_type": "execute_result"
    }
   ],
   "source": [
    "Age + score"
   ]
  },
  {
   "cell_type": "code",
   "execution_count": 12,
   "id": "d479121c-7f98-45b1-94fe-6f4c96b99fcd",
   "metadata": {},
   "outputs": [],
   "source": [
    "Total = Age + score"
   ]
  },
  {
   "cell_type": "code",
   "execution_count": 13,
   "id": "211409ba-e15f-47b2-a991-80c1b18d9eb2",
   "metadata": {},
   "outputs": [
    {
     "data": {
      "text/plain": [
       "100"
      ]
     },
     "execution_count": 13,
     "metadata": {},
     "output_type": "execute_result"
    }
   ],
   "source": [
    "Total"
   ]
  },
  {
   "cell_type": "code",
   "execution_count": null,
   "id": "f605c961-cd78-40d2-b5b2-25474612113b",
   "metadata": {},
   "outputs": [],
   "source": []
  }
 ],
 "metadata": {
  "kernelspec": {
   "display_name": "Python 3 (ipykernel)",
   "language": "python",
   "name": "python3"
  },
  "language_info": {
   "codemirror_mode": {
    "name": "ipython",
    "version": 3
   },
   "file_extension": ".py",
   "mimetype": "text/x-python",
   "name": "python",
   "nbconvert_exporter": "python",
   "pygments_lexer": "ipython3",
   "version": "3.12.7"
  }
 },
 "nbformat": 4,
 "nbformat_minor": 5
}
